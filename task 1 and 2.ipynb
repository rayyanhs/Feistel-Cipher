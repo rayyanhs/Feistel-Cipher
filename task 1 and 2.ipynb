{
 "cells": [
  {
   "cell_type": "code",
   "execution_count": 13,
   "metadata": {},
   "outputs": [],
   "source": [
    "#imports\n",
    "import random\n",
    "import numpy as np\n",
    "\n",
    "#for later\n",
    "random.seed(42)"
   ]
  },
  {
   "cell_type": "code",
   "execution_count": 14,
   "metadata": {},
   "outputs": [],
   "source": [
    "def str_to_np(str): #to make code easier to read\n",
    "    \"\"\"\n",
    "    str: binary string\n",
    "    returns a binary numpy array with str's bits\n",
    "    \"\"\"\n",
    "    return np.array(list(str), dtype=int)"
   ]
  },
  {
   "cell_type": "code",
   "execution_count": 15,
   "metadata": {},
   "outputs": [],
   "source": [
    "#subkey generation\n",
    "def generate_roundkeys(key, n_rounds):\n",
    "    \"\"\"\n",
    "    key: 'original' key of Fiestel cipher\n",
    "    n_rounds: number of rounds\n",
    "    returns a numpy array of n_rounds round keys\n",
    "    \"\"\"\n",
    "    round_keys = np.zeros([n_rounds, key.shape[0]], dtype=int) #nparray to store round keys\n",
    "    lk = key.shape[0] #key length\n",
    "    element = np.zeros([lk], dtype=int)\n",
    "    \n",
    "    for i in range(n_rounds):\n",
    "        for j in range(lk):\n",
    "            element[j] = key[((5*(i+1)+j)%lk)]\n",
    "        round_keys[i] = element #save i-th round key\n",
    "        \n",
    "    return round_keys"
   ]
  },
  {
   "cell_type": "markdown",
   "metadata": {},
   "source": [
    "**note:** since indexes in professor's code start from 1, we need to keep that into account when using i and j. Since in here they start from 0 I used i+1 and j+1 in the formula provided in the instruction. Also, the last +1 was removed for the same indeces coherency reason."
   ]
  },
  {
   "cell_type": "code",
   "execution_count": 16,
   "metadata": {},
   "outputs": [],
   "source": [
    "#task1 round function for block i\n",
    "def round_function1(ki, yi):\n",
    "    \"\"\"\n",
    "    ki: i-th round key, i.e. the i-th element of the object is \n",
    "        returned by function generate_roundkeys(binary numpy array)\n",
    "    yi: y of i-th iteration\n",
    "    returns wi=f(ki,yi), output of the i-th round function\n",
    "    \"\"\"\n",
    "    l = yi.shape[0]\n",
    "    wi = np.zeros([l], dtype=int)\n",
    "\n",
    "    for j in range(l): \n",
    "        if j < l/2:\n",
    "            wi[j] = yi[j]^ki[4*(j+1)-4]\n",
    "        else:\n",
    "            wi[j] = yi[j]^ki[4*(j+1)-2*l-1]\n",
    "    return wi"
   ]
  },
  {
   "cell_type": "code",
   "execution_count": 25,
   "metadata": {},
   "outputs": [],
   "source": [
    "def encryption(u, message_length, key_length, n_rounds, random_key=1, key=None):\n",
    "    \"\"\"\n",
    "    u: binary message (string)\n",
    "    message_length: lu\n",
    "    key_length: lk\n",
    "    n_rounds: number of rounds\n",
    "    random_key: set to 0 if want to pass your own key, to 1 to generate a random key\n",
    "    key: customizable key to use (binary numpy array of length key_length)\n",
    "    \"\"\"\n",
    "    u = u.zfill(message_length)\n",
    "    l = int(message_length/2)\n",
    "    \n",
    "    #initial split of message u\n",
    "    y1 = str_to_np(u[:l])\n",
    "    z1 = str_to_np(u[l:])\n",
    "    #print(\"y1={0}\\nz1={1}\".format(y1,z1))\n",
    "    \n",
    "    #random key\n",
    "    if random_key == 1:\n",
    "        key = str_to_np(bin(random.getrandbits(key_length))[2:]) #random key in bits\n",
    "    elif key.shape[0] < key_length: #pad key if needed\n",
    "        key = np.pad(key, (key_length-key.shape[0], 0), 'constant', constant_values=0)\n",
    "           \n",
    "    \n",
    "    #get round keys\n",
    "    round_keys = generate_roundkeys(key, n_rounds)\n",
    "    #print(\"round keys:\\n\", round_keys)\n",
    "    \n",
    "    prova = np.zeros([message_length], dtype=int)\n",
    "    for i in range(n_rounds):\n",
    "        wi = round_function1(round_keys[i], y1)\n",
    "        vi = wi^z1 #equivalento to:(wi+z1)%2\n",
    "        z1 = y1\n",
    "        y1 = vi\n",
    "        \n",
    "        #to print midterm results\n",
    "        #np.concatenate((z1,y1), out=prova)\n",
    "        #print(\"Round {0}\\nki={1}\\nwi={2}\\n[yi,zi]={3}\\n\".format(i,round_keys[i],wi,np.packbits(prova)))\n",
    "         \n",
    "    x = np.zeros([message_length], dtype=int)\n",
    "    np.concatenate((z1, y1), out=x)\n",
    "    x_bits = np.packbits(x)\n",
    "    \n",
    "    return x_bits, np.array2string(x, precision=int, separator='')[1:-1]"
   ]
  },
  {
   "cell_type": "code",
   "execution_count": 27,
   "metadata": {},
   "outputs": [
    {
     "name": "stdout",
     "output_type": "stream",
     "text": [
      "y1=[1 0 0 0 0 0 0 0 0 0 0 0 0 0 0 0]\n",
      "z1=[0 0 0 0 0 0 0 0 0 0 0 0 0 0 0 0]\n",
      "x binary form:  10001101101100000010000100110100\n",
      "x packbits: [141 176  33  52]\n",
      "\n",
      "8D\n",
      "B0\n",
      "21\n",
      "34\n"
     ]
    }
   ],
   "source": [
    "#check task1\n",
    "k = str_to_np(bin(0x10000000)[2:])\n",
    "x, x_bin = encryption(bin(0x80000000)[2:], 32, 32, 17, random_key=0, key=k)\n",
    "\n",
    "print(\"x binary form: \", x_bin)\n",
    "print(\"x packbits: {0}\\n\".format(x))\n",
    "\n",
    "#print x in hex notation\n",
    "for i in range(x.shape[0]):\n",
    "    print(np.base_repr(x[i], base=16, padding=0))"
   ]
  },
  {
   "cell_type": "code",
   "execution_count": 22,
   "metadata": {},
   "outputs": [
    {
     "name": "stdout",
     "output_type": "stream",
     "text": [
      "[1]\n",
      "[0 0 0 0 0 0 0 0 0 0 0 0 0 0 0 0 0 0 0 0 0 0 0 0 0 0 0 0 0 0 0 1]\n",
      "(32,)\n"
     ]
    }
   ],
   "source": [
    "k = str_to_np(bin(0x001)[2:])\n",
    "print(k)\n",
    "\n",
    "k = np.pad(k, (32-k.shape[0], 0), 'constant', constant_values=0)\n",
    "print(k)\n",
    "print(k.shape)"
   ]
  },
  {
   "cell_type": "code",
   "execution_count": 23,
   "metadata": {},
   "outputs": [],
   "source": [
    "def dencryption(x, ciphertext_length, key_length, n_rounds, random_key=1, key=None):\n",
    "    \"\"\"\n",
    "    x: binary ciphertext (string)\n",
    "    ciphertext_length: lx\n",
    "    key_length: lk\n",
    "    n_rounds: number of rounds\n",
    "    random_key: set to 0 if want to pass your own key, to 1 to generate a random key\n",
    "    key: customizable key to use (binary numpy array of length key_length)\n",
    "    \"\"\"\n",
    "    x = x.zfill(ciphertext_length)\n",
    "    l = int(ciphertext_length/2)\n",
    "    \n",
    "    #initial split of message u\n",
    "    yn = str_to_np(x[:l])\n",
    "    vn = str_to_np(x[l:])\n",
    "    #print(\"yn={0}\\nvn={1}\".format(yn,vn))\n",
    "    \n",
    "    #random key\n",
    "    if random_key == 1:\n",
    "        key = np.array(list(bin(random.getrandbits(key_length))[2:]), dtype=int) #random key in bits\n",
    "    elif key.shape[0] < key_length: #pad key if needed\n",
    "        key = np.pad(key, (key_length-key.shape[0], 0), 'constant', constant_values=0)\n",
    "           \n",
    "    #get round keys\n",
    "    round_keys = generate_roundkeys(key, n_rounds)\n",
    "    #print(\"round keys:\\n\", round_keys)\n",
    "    \n",
    "    prova = np.zeros([ciphertext_length], dtype=int)\n",
    "    for i in range(n_rounds-1, -1, -1):\n",
    "        wi = round_function1(round_keys[i], yn)\n",
    "        zi = wi^vn \n",
    "        vn = yn\n",
    "        yn = zi\n",
    "        \n",
    "        #to print midterm results\n",
    "        #np.concatenate((z1,y1), out=prova)\n",
    "        #print(\"Round {0}\\nki={1}\\nwi={2}\\n[yi,zi]={3}\\n\".format(i,round_keys[i],wi,np.packbits(prova)))\n",
    "         \n",
    "    u = np.zeros([ciphertext_length], dtype=int)\n",
    "    np.concatenate((vn, yn), out=u)\n",
    "    u_bits = np.packbits(u)\n",
    "    \n",
    "    return u_bits, np.array2string(u, precision=int, separator='')[1:-1]"
   ]
  },
  {
   "cell_type": "code",
   "execution_count": 24,
   "metadata": {},
   "outputs": [
    {
     "name": "stdout",
     "output_type": "stream",
     "text": [
      "y1=[0 0 0 0 0 0 0 0 0 0 0 0 0 0 0 0]\n",
      "z1=[0 1 0 0 0 0 0 0 0 0 0 0 0 0 0 0]\n",
      "\n",
      "ciphertext: 00011000000010110101101001100011\n",
      "\n",
      "yn=[0 0 0 1 1 0 0 0 0 0 0 0 1 0 1 1]\n",
      "vn=[0 1 0 1 1 0 1 0 0 1 1 0 0 0 1 1]\n",
      "\n",
      "deciphered message (binary form):  00000000000000000100000000000000\n",
      "deciphered message (packbits): [ 0  0 64  0]\n",
      "\n",
      "0\n",
      "0\n",
      "40\n",
      "0\n"
     ]
    }
   ],
   "source": [
    "#check task2\n",
    "\n",
    "#encryption parameters\n",
    "u = 0x00004000\n",
    "k = str_to_np(bin(0x80000000)[2:])\n",
    "\n",
    "#encryption\n",
    "x, x_bin = encryption(bin(u)[2:], 32, 32, 17, random_key=0, key=k)\n",
    "print(\"\\nciphertext: {0}\\n\".format(x_bin))\n",
    "\n",
    "#decryption\n",
    "u1, u1_bin = dencryption(x_bin, 32, 32, 17, random_key=0, key=k)\n",
    "\n",
    "#print\n",
    "print(\"\\ndeciphered message (binary form): \", u1_bin)\n",
    "print(\"deciphered message (packbits): {0}\\n\".format(u1))\n",
    "\n",
    "#print x in hex notation\n",
    "for i in range(u1.shape[0]):\n",
    "    print(np.base_repr(u1[i], base=16, padding=0))"
   ]
  },
  {
   "cell_type": "code",
   "execution_count": null,
   "metadata": {},
   "outputs": [],
   "source": []
  }
 ],
 "metadata": {
  "kernelspec": {
   "display_name": "Python 3",
   "language": "python",
   "name": "python3"
  },
  "language_info": {
   "codemirror_mode": {
    "name": "ipython",
    "version": 3
   },
   "file_extension": ".py",
   "mimetype": "text/x-python",
   "name": "python",
   "nbconvert_exporter": "python",
   "pygments_lexer": "ipython3",
   "version": "3.8.3"
  }
 },
 "nbformat": 4,
 "nbformat_minor": 4
}
